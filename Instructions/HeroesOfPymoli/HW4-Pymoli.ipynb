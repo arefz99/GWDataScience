{
 "cells": [
  {
   "cell_type": "code",
   "execution_count": 952,
   "metadata": {},
   "outputs": [],
   "source": [
    "import pandas as pd\n",
    "import numpy as np\n"
   ]
  },
  {
   "cell_type": "code",
   "execution_count": 953,
   "metadata": {},
   "outputs": [
    {
     "data": {
      "text/html": [
       "<div>\n",
       "<style scoped>\n",
       "    .dataframe tbody tr th:only-of-type {\n",
       "        vertical-align: middle;\n",
       "    }\n",
       "\n",
       "    .dataframe tbody tr th {\n",
       "        vertical-align: top;\n",
       "    }\n",
       "\n",
       "    .dataframe thead th {\n",
       "        text-align: right;\n",
       "    }\n",
       "</style>\n",
       "<table border=\"1\" class=\"dataframe\">\n",
       "  <thead>\n",
       "    <tr style=\"text-align: right;\">\n",
       "      <th></th>\n",
       "      <th>Age</th>\n",
       "      <th>Gender</th>\n",
       "      <th>Item ID</th>\n",
       "      <th>Item Name</th>\n",
       "      <th>Price</th>\n",
       "      <th>SN</th>\n",
       "    </tr>\n",
       "  </thead>\n",
       "  <tbody>\n",
       "    <tr>\n",
       "      <th>0</th>\n",
       "      <td>38</td>\n",
       "      <td>Male</td>\n",
       "      <td>165</td>\n",
       "      <td>Bone Crushing Silver Skewer</td>\n",
       "      <td>3.37</td>\n",
       "      <td>Aelalis34</td>\n",
       "    </tr>\n",
       "    <tr>\n",
       "      <th>1</th>\n",
       "      <td>21</td>\n",
       "      <td>Male</td>\n",
       "      <td>119</td>\n",
       "      <td>Stormbringer, Dark Blade of Ending Misery</td>\n",
       "      <td>2.32</td>\n",
       "      <td>Eolo46</td>\n",
       "    </tr>\n",
       "    <tr>\n",
       "      <th>2</th>\n",
       "      <td>34</td>\n",
       "      <td>Male</td>\n",
       "      <td>174</td>\n",
       "      <td>Primitive Blade</td>\n",
       "      <td>2.46</td>\n",
       "      <td>Assastnya25</td>\n",
       "    </tr>\n",
       "    <tr>\n",
       "      <th>3</th>\n",
       "      <td>21</td>\n",
       "      <td>Male</td>\n",
       "      <td>92</td>\n",
       "      <td>Final Critic</td>\n",
       "      <td>1.36</td>\n",
       "      <td>Pheusrical25</td>\n",
       "    </tr>\n",
       "    <tr>\n",
       "      <th>4</th>\n",
       "      <td>23</td>\n",
       "      <td>Male</td>\n",
       "      <td>63</td>\n",
       "      <td>Stormfury Mace</td>\n",
       "      <td>1.27</td>\n",
       "      <td>Aela59</td>\n",
       "    </tr>\n",
       "  </tbody>\n",
       "</table>\n",
       "</div>"
      ],
      "text/plain": [
       "   Age Gender  Item ID                                  Item Name  Price  \\\n",
       "0   38   Male      165                Bone Crushing Silver Skewer   3.37   \n",
       "1   21   Male      119  Stormbringer, Dark Blade of Ending Misery   2.32   \n",
       "2   34   Male      174                            Primitive Blade   2.46   \n",
       "3   21   Male       92                               Final Critic   1.36   \n",
       "4   23   Male       63                             Stormfury Mace   1.27   \n",
       "\n",
       "             SN  \n",
       "0     Aelalis34  \n",
       "1        Eolo46  \n",
       "2   Assastnya25  \n",
       "3  Pheusrical25  \n",
       "4        Aela59  "
      ]
     },
     "execution_count": 953,
     "metadata": {},
     "output_type": "execute_result"
    }
   ],
   "source": [
    "# Store filepath in a variable\n",
    "datafile = \"purchase_data.json\"\n",
    "# Read our Data file with the pandas library\n",
    "datafile_df = pd.read_json(datafile, orient = \"columns\")\n",
    "\n",
    "datafile_df.head()\n"
   ]
  },
  {
   "cell_type": "code",
   "execution_count": 954,
   "metadata": {},
   "outputs": [
    {
     "data": {
      "text/plain": [
       "Age          780\n",
       "Gender       780\n",
       "Item ID      780\n",
       "Item Name    780\n",
       "Price        780\n",
       "SN           780\n",
       "dtype: int64"
      ]
     },
     "execution_count": 954,
     "metadata": {},
     "output_type": "execute_result"
    }
   ],
   "source": [
    "datafile_df.count()\n"
   ]
  },
  {
   "cell_type": "code",
   "execution_count": 955,
   "metadata": {},
   "outputs": [],
   "source": [
    "#cleanup\n",
    "datafile_df = datafile_df.rename(\n",
    "    columns={\"SN\": \"Player Name\"})\n",
    "\n",
    "datafile_df = datafile_df.dropna()"
   ]
  },
  {
   "cell_type": "code",
   "execution_count": 956,
   "metadata": {},
   "outputs": [
    {
     "data": {
      "text/plain": [
       "Age            780\n",
       "Gender         780\n",
       "Item ID        780\n",
       "Item Name      780\n",
       "Price          780\n",
       "Player Name    780\n",
       "dtype: int64"
      ]
     },
     "execution_count": 956,
     "metadata": {},
     "output_type": "execute_result"
    }
   ],
   "source": [
    "datafile_df.count()\n"
   ]
  },
  {
   "cell_type": "code",
   "execution_count": 957,
   "metadata": {},
   "outputs": [
    {
     "data": {
      "text/html": [
       "<div>\n",
       "<style scoped>\n",
       "    .dataframe tbody tr th:only-of-type {\n",
       "        vertical-align: middle;\n",
       "    }\n",
       "\n",
       "    .dataframe tbody tr th {\n",
       "        vertical-align: top;\n",
       "    }\n",
       "\n",
       "    .dataframe thead th {\n",
       "        text-align: right;\n",
       "    }\n",
       "</style>\n",
       "<table border=\"1\" class=\"dataframe\">\n",
       "  <thead>\n",
       "    <tr style=\"text-align: right;\">\n",
       "      <th></th>\n",
       "      <th>Age</th>\n",
       "      <th>Gender</th>\n",
       "      <th>Item ID</th>\n",
       "      <th>Item Name</th>\n",
       "      <th>Price</th>\n",
       "      <th>Player Name</th>\n",
       "    </tr>\n",
       "  </thead>\n",
       "  <tbody>\n",
       "    <tr>\n",
       "      <th>0</th>\n",
       "      <td>38</td>\n",
       "      <td>Male</td>\n",
       "      <td>165</td>\n",
       "      <td>Bone Crushing Silver Skewer</td>\n",
       "      <td>3.37</td>\n",
       "      <td>Aelalis34</td>\n",
       "    </tr>\n",
       "    <tr>\n",
       "      <th>1</th>\n",
       "      <td>21</td>\n",
       "      <td>Male</td>\n",
       "      <td>119</td>\n",
       "      <td>Stormbringer, Dark Blade of Ending Misery</td>\n",
       "      <td>2.32</td>\n",
       "      <td>Eolo46</td>\n",
       "    </tr>\n",
       "    <tr>\n",
       "      <th>2</th>\n",
       "      <td>34</td>\n",
       "      <td>Male</td>\n",
       "      <td>174</td>\n",
       "      <td>Primitive Blade</td>\n",
       "      <td>2.46</td>\n",
       "      <td>Assastnya25</td>\n",
       "    </tr>\n",
       "    <tr>\n",
       "      <th>3</th>\n",
       "      <td>21</td>\n",
       "      <td>Male</td>\n",
       "      <td>92</td>\n",
       "      <td>Final Critic</td>\n",
       "      <td>1.36</td>\n",
       "      <td>Pheusrical25</td>\n",
       "    </tr>\n",
       "    <tr>\n",
       "      <th>4</th>\n",
       "      <td>23</td>\n",
       "      <td>Male</td>\n",
       "      <td>63</td>\n",
       "      <td>Stormfury Mace</td>\n",
       "      <td>1.27</td>\n",
       "      <td>Aela59</td>\n",
       "    </tr>\n",
       "  </tbody>\n",
       "</table>\n",
       "</div>"
      ],
      "text/plain": [
       "   Age Gender  Item ID                                  Item Name  Price  \\\n",
       "0   38   Male      165                Bone Crushing Silver Skewer   3.37   \n",
       "1   21   Male      119  Stormbringer, Dark Blade of Ending Misery   2.32   \n",
       "2   34   Male      174                            Primitive Blade   2.46   \n",
       "3   21   Male       92                               Final Critic   1.36   \n",
       "4   23   Male       63                             Stormfury Mace   1.27   \n",
       "\n",
       "    Player Name  \n",
       "0     Aelalis34  \n",
       "1        Eolo46  \n",
       "2   Assastnya25  \n",
       "3  Pheusrical25  \n",
       "4        Aela59  "
      ]
     },
     "execution_count": 957,
     "metadata": {},
     "output_type": "execute_result"
    }
   ],
   "source": [
    "# Show just the header\n",
    "datafile_df.head()\n"
   ]
  },
  {
   "cell_type": "code",
   "execution_count": 958,
   "metadata": {},
   "outputs": [
    {
     "data": {
      "text/plain": [
       "573"
      ]
     },
     "execution_count": 958,
     "metadata": {},
     "output_type": "execute_result"
    }
   ],
   "source": [
    "#find out how many unique players\n",
    "unique_player_count = datafile_df[\"Player Name\"].value_counts()\n",
    "len(unique_player_count)"
   ]
  },
  {
   "cell_type": "code",
   "execution_count": 959,
   "metadata": {},
   "outputs": [],
   "source": [
    "#find out how many unique male players\n"
   ]
  },
  {
   "cell_type": "code",
   "execution_count": 960,
   "metadata": {},
   "outputs": [],
   "source": [
    "#find out how many unique female players\n"
   ]
  },
  {
   "cell_type": "code",
   "execution_count": 961,
   "metadata": {},
   "outputs": [
    {
     "data": {
      "text/plain": [
       "780"
      ]
     },
     "execution_count": 961,
     "metadata": {},
     "output_type": "execute_result"
    }
   ],
   "source": [
    "\n",
    "total_non_unique_players = len(datafile_df)\n",
    "total_non_unique_players\n",
    "\n",
    "#**Purchasing Analysis (Total)**"
   ]
  },
  {
   "cell_type": "code",
   "execution_count": 962,
   "metadata": {},
   "outputs": [
    {
     "data": {
      "text/plain": [
       "179"
      ]
     },
     "execution_count": 962,
     "metadata": {},
     "output_type": "execute_result"
    }
   ],
   "source": [
    "# Number of Unique Items\n",
    "game_counts =len(datafile_df[\"Item Name\"].value_counts())\n",
    "game_counts"
   ]
  },
  {
   "cell_type": "code",
   "execution_count": 963,
   "metadata": {},
   "outputs": [
    {
     "data": {
      "text/plain": [
       "Age              int64\n",
       "Gender          object\n",
       "Item ID          int64\n",
       "Item Name       object\n",
       "Price          float64\n",
       "Player Name     object\n",
       "dtype: object"
      ]
     },
     "execution_count": 963,
     "metadata": {},
     "output_type": "execute_result"
    }
   ],
   "source": [
    "datafile_df.dtypes"
   ]
  },
  {
   "cell_type": "code",
   "execution_count": 964,
   "metadata": {},
   "outputs": [
    {
     "data": {
      "text/plain": [
       "2286.33"
      ]
     },
     "execution_count": 964,
     "metadata": {},
     "output_type": "execute_result"
    }
   ],
   "source": [
    "#Price is float 64 so we do not need to convert Price\n",
    "#sum of or TOTAL revenues\n",
    "datafile_df[\"Price\"].sum()"
   ]
  },
  {
   "cell_type": "code",
   "execution_count": 965,
   "metadata": {},
   "outputs": [
    {
     "data": {
      "text/plain": [
       "2.931192307692303"
      ]
     },
     "execution_count": 965,
     "metadata": {},
     "output_type": "execute_result"
    }
   ],
   "source": [
    "#Average Purchase Price is total purchases$ div / total purchases\n",
    "datafile_df[\"Price\"].mean()\n"
   ]
  },
  {
   "cell_type": "code",
   "execution_count": 966,
   "metadata": {},
   "outputs": [
    {
     "data": {
      "text/plain": [
       "780"
      ]
     },
     "execution_count": 966,
     "metadata": {},
     "output_type": "execute_result"
    }
   ],
   "source": [
    "#* Total Number of Purchases\n",
    "len(datafile_df)\n"
   ]
  },
  {
   "cell_type": "code",
   "execution_count": 967,
   "metadata": {
    "scrolled": true
   },
   "outputs": [
    {
     "data": {
      "text/plain": [
       "633"
      ]
     },
     "execution_count": 967,
     "metadata": {},
     "output_type": "execute_result"
    }
   ],
   "source": [
    "#**Purchasing Analysis (Total)** - DONE\n",
    "\n",
    "#**Gender Demographics\n",
    "\n",
    "#* Percentage and Count of Male Players\n",
    "male = datafile_df.loc[datafile_df[\"Gender\"] == \"Male\"]\n",
    "\n",
    "len(male)\n"
   ]
  },
  {
   "cell_type": "code",
   "execution_count": 968,
   "metadata": {},
   "outputs": [
    {
     "data": {
      "text/plain": [
       "0.8115384615384615"
      ]
     },
     "execution_count": 968,
     "metadata": {},
     "output_type": "execute_result"
    }
   ],
   "source": [
    "percent_male = (float(len(male))/float(total_non_unique_players))\n",
    "percent_male"
   ]
  },
  {
   "cell_type": "code",
   "execution_count": 969,
   "metadata": {},
   "outputs": [
    {
     "data": {
      "text/plain": [
       "136"
      ]
     },
     "execution_count": 969,
     "metadata": {},
     "output_type": "execute_result"
    }
   ],
   "source": [
    "#* Percentage and Count of Female Players\n",
    "female = datafile_df.loc[datafile_df[\"Gender\"] == \"Female\"]\n",
    "len(female)\n"
   ]
  },
  {
   "cell_type": "code",
   "execution_count": 970,
   "metadata": {},
   "outputs": [
    {
     "data": {
      "text/plain": [
       "0.17435897435897435"
      ]
     },
     "execution_count": 970,
     "metadata": {},
     "output_type": "execute_result"
    }
   ],
   "source": [
    "percent_female = (float(len(female))/float(total_non_unique_players))\n",
    "percent_female"
   ]
  },
  {
   "cell_type": "code",
   "execution_count": 971,
   "metadata": {},
   "outputs": [
    {
     "data": {
      "text/plain": [
       "11"
      ]
     },
     "execution_count": 971,
     "metadata": {},
     "output_type": "execute_result"
    }
   ],
   "source": [
    "#* Percentage and Count of Other / Non-Disclosed\n",
    "\n",
    "count_other = (len(datafile_df) - (len(male)+ len(female)))\n",
    "count_other"
   ]
  },
  {
   "cell_type": "code",
   "execution_count": 972,
   "metadata": {},
   "outputs": [
    {
     "data": {
      "text/plain": [
       "0.014102564102564052"
      ]
     },
     "execution_count": 972,
     "metadata": {},
     "output_type": "execute_result"
    }
   ],
   "source": [
    "#* Percentage and Count of Other / Non-Disclosed\n",
    "\n",
    "\n",
    "percent_other = (1 -(percent_male + percent_female))\n",
    "percent_other"
   ]
  },
  {
   "cell_type": "code",
   "execution_count": 973,
   "metadata": {},
   "outputs": [
    {
     "data": {
      "text/plain": [
       "633"
      ]
     },
     "execution_count": 973,
     "metadata": {},
     "output_type": "execute_result"
    }
   ],
   "source": [
    "#Purchasing Analysis (Gender)** \n",
    "\n",
    "#* The below each broken by gender - looking at full data not unique males or females since purchases are the topic\n",
    "#  * Purchase Count\n",
    "\n",
    "male_purchase_count = datafile_df.loc[datafile_df[\"Gender\"] == \"Male\"]\n",
    "female_purchase_count = datafile_df.loc[datafile_df[\"Gender\"] == \"Female\"]\n",
    "\n",
    "\n",
    "\n",
    "len(male_purchase_count)"
   ]
  },
  {
   "cell_type": "code",
   "execution_count": 974,
   "metadata": {},
   "outputs": [
    {
     "data": {
      "text/plain": [
       "136"
      ]
     },
     "execution_count": 974,
     "metadata": {},
     "output_type": "execute_result"
    }
   ],
   "source": [
    "len(female_purchase_count)"
   ]
  },
  {
   "cell_type": "code",
   "execution_count": 975,
   "metadata": {},
   "outputs": [],
   "source": [
    "male_total_sum_df = (datafile_df.loc[datafile_df[\"Gender\"] == \"Male\"])\n",
    "male_purchase_sum = male_total_sum_df[\"Price\"].sum()\n",
    "\n",
    "female_total_sum_df = (datafile_df.loc[datafile_df[\"Gender\"] == \"Female\"])\n",
    "female_purchase_sum = female_total_sum_df[\"Price\"].sum()\n"
   ]
  },
  {
   "cell_type": "code",
   "execution_count": 976,
   "metadata": {},
   "outputs": [
    {
     "data": {
      "text/plain": [
       "1867.68"
      ]
     },
     "execution_count": 976,
     "metadata": {},
     "output_type": "execute_result"
    }
   ],
   "source": [
    "# * Total Purchase Value\n",
    "male_purchase_sum"
   ]
  },
  {
   "cell_type": "code",
   "execution_count": 977,
   "metadata": {},
   "outputs": [
    {
     "data": {
      "text/plain": [
       "382.90999999999997"
      ]
     },
     "execution_count": 977,
     "metadata": {},
     "output_type": "execute_result"
    }
   ],
   "source": [
    "# * Total Purchase Value\n",
    "female_purchase_sum"
   ]
  },
  {
   "cell_type": "code",
   "execution_count": 978,
   "metadata": {},
   "outputs": [
    {
     "data": {
      "text/plain": [
       "2.950521327014218"
      ]
     },
     "execution_count": 978,
     "metadata": {},
     "output_type": "execute_result"
    }
   ],
   "source": [
    "# * Average Male Purchase Price\n",
    "male_purchase_sum/len(male_purchase_count)"
   ]
  },
  {
   "cell_type": "code",
   "execution_count": 979,
   "metadata": {},
   "outputs": [
    {
     "data": {
      "text/plain": [
       "2.815514705882353"
      ]
     },
     "execution_count": 979,
     "metadata": {},
     "output_type": "execute_result"
    }
   ],
   "source": [
    "# * Average Female Purchase Price\n",
    "female_purchase_sum/len(female_purchase_count)"
   ]
  },
  {
   "cell_type": "code",
   "execution_count": 980,
   "metadata": {},
   "outputs": [],
   "source": [
    "#vernon_crime_df = no_null_crime_df.loc[no_null_crime_df[\"Neighborhood\"] == \"Vernon\"]\n",
    "\n",
    "# * Normalized Totals"
   ]
  },
  {
   "cell_type": "code",
   "execution_count": null,
   "metadata": {},
   "outputs": [],
   "source": []
  },
  {
   "cell_type": "code",
   "execution_count": 981,
   "metadata": {},
   "outputs": [],
   "source": [
    "#*Age Demographics**\n",
    "\n",
    "#* The below each broken into bins of 4 years (i.e. &lt;10, 10-14, 15-19, etc.)\n",
    "bins = [0, 10, 14, 19, 23, 27, 31, 35, 39, 43, 47, 51, 100]\n",
    "group_names = ['ZeroT10', '10TO14', '14TO19', '19TO23', '23TO27', '27TO31','31TO35','35TO39','39TO43','43TO47', '47TO51' ,'51andABOVE']\n",
    "bin_df = datafile_df\n",
    "bin_df[\"Age\"]= pd.cut(bin_df[\"Age\"], bins, labels=group_names)\n",
    "\n",
    "\n"
   ]
  },
  {
   "cell_type": "code",
   "execution_count": 982,
   "metadata": {},
   "outputs": [
    {
     "data": {
      "text/plain": [
       "Age\n",
       "ZeroT10        32\n",
       "10TO14         31\n",
       "14TO19        133\n",
       "19TO23        266\n",
       "23TO27        169\n",
       "27TO31         60\n",
       "31TO35         42\n",
       "35TO39         30\n",
       "39TO43         16\n",
       "43TO47          1\n",
       "47TO51          0\n",
       "51andABOVE      0\n",
       "Name: Price, dtype: int64"
      ]
     },
     "execution_count": 982,
     "metadata": {},
     "output_type": "execute_result"
    }
   ],
   "source": [
    "purchase_count = bin_groups['Price'].count()\n",
    "purchase_count\n",
    "# * Purchase Count"
   ]
  },
  {
   "cell_type": "code",
   "execution_count": 983,
   "metadata": {},
   "outputs": [
    {
     "data": {
      "text/plain": [
       "Age\n",
       "ZeroT10       3.019375\n",
       "10TO14        2.702903\n",
       "14TO19        2.905414\n",
       "19TO23        2.877105\n",
       "23TO27        3.017870\n",
       "27TO31        2.956667\n",
       "31TO35        3.110476\n",
       "35TO39        2.746000\n",
       "39TO43        3.189375\n",
       "43TO47        2.720000\n",
       "47TO51             NaN\n",
       "51andABOVE         NaN\n",
       "Name: Price, dtype: float64"
      ]
     },
     "execution_count": 983,
     "metadata": {},
     "output_type": "execute_result"
    }
   ],
   "source": [
    "#  * Average Purchase Price\n",
    "avg_purch_price = bin_groups['Price'].mean()\n",
    "avg_purch_price"
   ]
  },
  {
   "cell_type": "code",
   "execution_count": 984,
   "metadata": {},
   "outputs": [
    {
     "data": {
      "text/plain": [
       "Age\n",
       "ZeroT10        96.62\n",
       "10TO14         83.79\n",
       "14TO19        386.42\n",
       "19TO23        765.31\n",
       "23TO27        510.02\n",
       "27TO31        177.40\n",
       "31TO35        130.64\n",
       "35TO39         82.38\n",
       "39TO43         51.03\n",
       "43TO47          2.72\n",
       "47TO51          0.00\n",
       "51andABOVE      0.00\n",
       "Name: Price, dtype: float64"
      ]
     },
     "execution_count": 984,
     "metadata": {},
     "output_type": "execute_result"
    }
   ],
   "source": [
    "#  * Total Purchase Value\n",
    "total_purch_price = bin_groups['Price'].sum()\n",
    "total_purch_price"
   ]
  },
  {
   "cell_type": "code",
   "execution_count": 985,
   "metadata": {},
   "outputs": [],
   "source": [
    "#  * Normalized Totals"
   ]
  },
  {
   "cell_type": "code",
   "execution_count": 986,
   "metadata": {},
   "outputs": [
    {
     "data": {
      "text/plain": [
       "Player Name\n",
       "Adairialis76        2.46\n",
       "Aduephos78          6.70\n",
       "Aeduera68           5.80\n",
       "Aela49              2.46\n",
       "Aela59              1.27\n",
       "Aelalis34           5.06\n",
       "Aelin32             3.14\n",
       "Aeliriam77          6.72\n",
       "Aeliriarin93        2.04\n",
       "Aeliru63            8.98\n",
       "Aellyria80          4.32\n",
       "Aellyrialis39       3.15\n",
       "Aellysup38          3.61\n",
       "Aelollo59           1.55\n",
       "Aenarap34           1.65\n",
       "Aenasu69            3.27\n",
       "Aeral43             2.72\n",
       "Aeral85             4.25\n",
       "Aeral97             2.35\n",
       "Aeri84              6.60\n",
       "Aerillorin70        1.88\n",
       "Aerithllora36      10.45\n",
       "Aerithnucal56       3.18\n",
       "Aerithnuphos61      1.69\n",
       "Aerithriaphos45     2.38\n",
       "Aesty51             1.82\n",
       "Aesur96             4.66\n",
       "Aethe80             2.32\n",
       "Aethedru70          2.97\n",
       "Aidain51            6.84\n",
       "                   ...  \n",
       "Undjaskla97         4.57\n",
       "Undjasksya56        4.53\n",
       "Undotesta33         3.90\n",
       "Wailin72            2.04\n",
       "Whaestysu86         4.08\n",
       "Yadacal26           1.93\n",
       "Yadaisuir65         8.56\n",
       "Yadanun74           9.09\n",
       "Yalaeria91          1.88\n",
       "Yaliru88            3.71\n",
       "Yalo71              2.41\n",
       "Yalostiphos68       2.37\n",
       "Yaralnura48         4.19\n",
       "Yararmol43          1.55\n",
       "Yarirarn35          2.88\n",
       "Yaristi64           1.24\n",
       "Yarithllodeu72      2.19\n",
       "Yarithphos28        2.35\n",
       "Yarithsurgue62      4.81\n",
       "Yarmol79            2.91\n",
       "Yarolwen77          6.98\n",
       "Yasriphos60        10.40\n",
       "Yasrisu92           2.60\n",
       "Yasur35             2.78\n",
       "Yasur85             2.04\n",
       "Yasurra52           3.14\n",
       "Yathecal72          7.77\n",
       "Yathecal82          2.41\n",
       "Zhisrisu83          2.46\n",
       "Zontibe81           3.71\n",
       "Name: Price, Length: 573, dtype: float64"
      ]
     },
     "execution_count": 986,
     "metadata": {},
     "output_type": "execute_result"
    }
   ],
   "source": [
    "# Identify the the top 5 spenders in the game by total purchase value, then list (in a table):\n",
    " # * SN\n",
    "\n",
    "\n",
    "total_pv = datafile_df.groupby([\"Player Name\"]).sum()[\"Price\"]\n",
    "total_pv\n",
    "#need a loop to go thru the DF and identify news rows with same playername and update the original playername row with total purchases\n",
    "    \n",
    "    "
   ]
  },
  {
   "cell_type": "code",
   "execution_count": 987,
   "metadata": {},
   "outputs": [
    {
     "data": {
      "text/plain": [
       "Player Name\n",
       "Adairialis76       1\n",
       "Aduephos78         3\n",
       "Aeduera68          3\n",
       "Aela49             1\n",
       "Aela59             1\n",
       "Aelalis34          2\n",
       "Aelin32            1\n",
       "Aeliriam77         2\n",
       "Aeliriarin93       1\n",
       "Aeliru63           2\n",
       "Aellyria80         1\n",
       "Aellyrialis39      1\n",
       "Aellysup38         1\n",
       "Aelollo59          1\n",
       "Aenarap34          1\n",
       "Aenasu69           1\n",
       "Aeral43            1\n",
       "Aeral85            1\n",
       "Aeral97            1\n",
       "Aeri84             2\n",
       "Aerillorin70       1\n",
       "Aerithllora36      3\n",
       "Aerithnucal56      2\n",
       "Aerithnuphos61     1\n",
       "Aerithriaphos45    1\n",
       "Aesty51            1\n",
       "Aesur96            1\n",
       "Aethe80            1\n",
       "Aethedru70         1\n",
       "Aidain51           2\n",
       "                  ..\n",
       "Undjaskla97        1\n",
       "Undjasksya56       1\n",
       "Undotesta33        1\n",
       "Wailin72           1\n",
       "Whaestysu86        1\n",
       "Yadacal26          1\n",
       "Yadaisuir65        2\n",
       "Yadanun74          3\n",
       "Yalaeria91         1\n",
       "Yaliru88           1\n",
       "Yalo71             1\n",
       "Yalostiphos68      1\n",
       "Yaralnura48        2\n",
       "Yararmol43         1\n",
       "Yarirarn35         1\n",
       "Yaristi64          1\n",
       "Yarithllodeu72     1\n",
       "Yarithphos28       1\n",
       "Yarithsurgue62     2\n",
       "Yarmol79           1\n",
       "Yarolwen77         2\n",
       "Yasriphos60        3\n",
       "Yasrisu92          1\n",
       "Yasur35            1\n",
       "Yasur85            1\n",
       "Yasurra52          1\n",
       "Yathecal72         2\n",
       "Yathecal82         1\n",
       "Zhisrisu83         2\n",
       "Zontibe81          1\n",
       "Name: Price, Length: 573, dtype: int64"
      ]
     },
     "execution_count": 987,
     "metadata": {},
     "output_type": "execute_result"
    }
   ],
   "source": [
    " # * Purchase Count\n",
    "purchase_count = datafile_df.groupby([\"Player Name\"]).count()[\"Price\"]\n",
    "purchase_count"
   ]
  },
  {
   "cell_type": "code",
   "execution_count": 988,
   "metadata": {},
   "outputs": [
    {
     "data": {
      "text/plain": [
       "Player Name\n",
       "Adairialis76       2.460000\n",
       "Aduephos78         2.233333\n",
       "Aeduera68          1.933333\n",
       "Aela49             2.460000\n",
       "Aela59             1.270000\n",
       "Aelalis34          2.530000\n",
       "Aelin32            3.140000\n",
       "Aeliriam77         3.360000\n",
       "Aeliriarin93       2.040000\n",
       "Aeliru63           4.490000\n",
       "Aellyria80         4.320000\n",
       "Aellyrialis39      3.150000\n",
       "Aellysup38         3.610000\n",
       "Aelollo59          1.550000\n",
       "Aenarap34          1.650000\n",
       "Aenasu69           3.270000\n",
       "Aeral43            2.720000\n",
       "Aeral85            4.250000\n",
       "Aeral97            2.350000\n",
       "Aeri84             3.300000\n",
       "Aerillorin70       1.880000\n",
       "Aerithllora36      3.483333\n",
       "Aerithnucal56      1.590000\n",
       "Aerithnuphos61     1.690000\n",
       "Aerithriaphos45    2.380000\n",
       "Aesty51            1.820000\n",
       "Aesur96            4.660000\n",
       "Aethe80            2.320000\n",
       "Aethedru70         2.970000\n",
       "Aidain51           3.420000\n",
       "                     ...   \n",
       "Undjaskla97        4.570000\n",
       "Undjasksya56       4.530000\n",
       "Undotesta33        3.900000\n",
       "Wailin72           2.040000\n",
       "Whaestysu86        4.080000\n",
       "Yadacal26          1.930000\n",
       "Yadaisuir65        4.280000\n",
       "Yadanun74          3.030000\n",
       "Yalaeria91         1.880000\n",
       "Yaliru88           3.710000\n",
       "Yalo71             2.410000\n",
       "Yalostiphos68      2.370000\n",
       "Yaralnura48        2.095000\n",
       "Yararmol43         1.550000\n",
       "Yarirarn35         2.880000\n",
       "Yaristi64          1.240000\n",
       "Yarithllodeu72     2.190000\n",
       "Yarithphos28       2.350000\n",
       "Yarithsurgue62     2.405000\n",
       "Yarmol79           2.910000\n",
       "Yarolwen77         3.490000\n",
       "Yasriphos60        3.466667\n",
       "Yasrisu92          2.600000\n",
       "Yasur35            2.780000\n",
       "Yasur85            2.040000\n",
       "Yasurra52          3.140000\n",
       "Yathecal72         3.885000\n",
       "Yathecal82         2.410000\n",
       "Zhisrisu83         1.230000\n",
       "Zontibe81          3.710000\n",
       "Name: Price, Length: 573, dtype: float64"
      ]
     },
     "execution_count": 988,
     "metadata": {},
     "output_type": "execute_result"
    }
   ],
   "source": [
    " # * Average Purchase Price\n",
    "avg_purchase = datafile_df.groupby([\"Player Name\"]).mean()[\"Price\"]\n",
    "avg_purchase"
   ]
  },
  {
   "cell_type": "code",
   "execution_count": 989,
   "metadata": {},
   "outputs": [
    {
     "data": {
      "text/html": [
       "<div>\n",
       "<style scoped>\n",
       "    .dataframe tbody tr th:only-of-type {\n",
       "        vertical-align: middle;\n",
       "    }\n",
       "\n",
       "    .dataframe tbody tr th {\n",
       "        vertical-align: top;\n",
       "    }\n",
       "\n",
       "    .dataframe thead th {\n",
       "        text-align: right;\n",
       "    }\n",
       "</style>\n",
       "<table border=\"1\" class=\"dataframe\">\n",
       "  <thead>\n",
       "    <tr style=\"text-align: right;\">\n",
       "      <th></th>\n",
       "      <th>Purchase Count</th>\n",
       "      <th>Average Purchase Price</th>\n",
       "      <th>Total Purchase Value</th>\n",
       "    </tr>\n",
       "    <tr>\n",
       "      <th>Player Name</th>\n",
       "      <th></th>\n",
       "      <th></th>\n",
       "      <th></th>\n",
       "    </tr>\n",
       "  </thead>\n",
       "  <tbody>\n",
       "    <tr>\n",
       "      <th>Undirrala66</th>\n",
       "      <td>5</td>\n",
       "      <td>3.412000</td>\n",
       "      <td>17.06</td>\n",
       "    </tr>\n",
       "    <tr>\n",
       "      <th>Saedue76</th>\n",
       "      <td>4</td>\n",
       "      <td>3.390000</td>\n",
       "      <td>13.56</td>\n",
       "    </tr>\n",
       "    <tr>\n",
       "      <th>Mindimnya67</th>\n",
       "      <td>4</td>\n",
       "      <td>3.185000</td>\n",
       "      <td>12.74</td>\n",
       "    </tr>\n",
       "    <tr>\n",
       "      <th>Haellysu29</th>\n",
       "      <td>3</td>\n",
       "      <td>4.243333</td>\n",
       "      <td>12.73</td>\n",
       "    </tr>\n",
       "    <tr>\n",
       "      <th>Eoda93</th>\n",
       "      <td>3</td>\n",
       "      <td>3.860000</td>\n",
       "      <td>11.58</td>\n",
       "    </tr>\n",
       "  </tbody>\n",
       "</table>\n",
       "</div>"
      ],
      "text/plain": [
       "             Purchase Count  Average Purchase Price  Total Purchase Value\n",
       "Player Name                                                              \n",
       "Undirrala66               5                3.412000                 17.06\n",
       "Saedue76                  4                3.390000                 13.56\n",
       "Mindimnya67               4                3.185000                 12.74\n",
       "Haellysu29                3                4.243333                 12.73\n",
       "Eoda93                    3                3.860000                 11.58"
      ]
     },
     "execution_count": 989,
     "metadata": {},
     "output_type": "execute_result"
    }
   ],
   "source": [
    "# * Total Purchase Value\n",
    "    \n",
    "top_spend = pd.DataFrame({\"Purchase Count\":purchase_count, \"Average Purchase Price\": avg_purchase, \"Total Purchase Value\": total_pv})\n",
    "top_spend.sort_values(\"Total Purchase Value\", ascending = False).head(5)"
   ]
  },
  {
   "cell_type": "code",
   "execution_count": null,
   "metadata": {},
   "outputs": [],
   "source": []
  },
  {
   "cell_type": "code",
   "execution_count": 998,
   "metadata": {},
   "outputs": [],
   "source": [
    "#**Most Popular Items**\n",
    "\n",
    "#* Identify the 5 most popular items by purchase count, then list (in a table):\n",
    "#  * Item ID\n",
    "\n",
    "popular_name = datafile_df.groupby([\"Item Name\"]).count()\n",
    "\n",
    "popular_name= popular_name.sort_values(\"Player Name\", ascending = False)\n",
    "\n",
    "\n",
    "#  * Item Name\n",
    "#  * Purchase Count\n",
    "#  * Item Price\n",
    "#  * Total Purchase Value"
   ]
  },
  {
   "cell_type": "code",
   "execution_count": 999,
   "metadata": {},
   "outputs": [
    {
     "data": {
      "text/html": [
       "<div>\n",
       "<style scoped>\n",
       "    .dataframe tbody tr th:only-of-type {\n",
       "        vertical-align: middle;\n",
       "    }\n",
       "\n",
       "    .dataframe tbody tr th {\n",
       "        vertical-align: top;\n",
       "    }\n",
       "\n",
       "    .dataframe thead th {\n",
       "        text-align: right;\n",
       "    }\n",
       "</style>\n",
       "<table border=\"1\" class=\"dataframe\">\n",
       "  <thead>\n",
       "    <tr style=\"text-align: right;\">\n",
       "      <th></th>\n",
       "      <th>Age</th>\n",
       "      <th>Gender</th>\n",
       "      <th>Item ID</th>\n",
       "      <th>Price</th>\n",
       "      <th>Player Name</th>\n",
       "    </tr>\n",
       "    <tr>\n",
       "      <th>Item Name</th>\n",
       "      <th></th>\n",
       "      <th></th>\n",
       "      <th></th>\n",
       "      <th></th>\n",
       "      <th></th>\n",
       "    </tr>\n",
       "  </thead>\n",
       "  <tbody>\n",
       "    <tr>\n",
       "      <th>Final Critic</th>\n",
       "      <td>14</td>\n",
       "      <td>14</td>\n",
       "      <td>14</td>\n",
       "      <td>14</td>\n",
       "      <td>14</td>\n",
       "    </tr>\n",
       "    <tr>\n",
       "      <th>Arcane Gem</th>\n",
       "      <td>11</td>\n",
       "      <td>11</td>\n",
       "      <td>11</td>\n",
       "      <td>11</td>\n",
       "      <td>11</td>\n",
       "    </tr>\n",
       "    <tr>\n",
       "      <th>Betrayal, Whisper of Grieving Widows</th>\n",
       "      <td>11</td>\n",
       "      <td>11</td>\n",
       "      <td>11</td>\n",
       "      <td>11</td>\n",
       "      <td>11</td>\n",
       "    </tr>\n",
       "    <tr>\n",
       "      <th>Stormcaller</th>\n",
       "      <td>10</td>\n",
       "      <td>10</td>\n",
       "      <td>10</td>\n",
       "      <td>10</td>\n",
       "      <td>10</td>\n",
       "    </tr>\n",
       "    <tr>\n",
       "      <th>Woeful Adamantite Claymore</th>\n",
       "      <td>9</td>\n",
       "      <td>9</td>\n",
       "      <td>9</td>\n",
       "      <td>9</td>\n",
       "      <td>9</td>\n",
       "    </tr>\n",
       "  </tbody>\n",
       "</table>\n",
       "</div>"
      ],
      "text/plain": [
       "                                      Age  Gender  Item ID  Price  Player Name\n",
       "Item Name                                                                     \n",
       "Final Critic                           14      14       14     14           14\n",
       "Arcane Gem                             11      11       11     11           11\n",
       "Betrayal, Whisper of Grieving Widows   11      11       11     11           11\n",
       "Stormcaller                            10      10       10     10           10\n",
       "Woeful Adamantite Claymore              9       9        9      9            9"
      ]
     },
     "execution_count": 999,
     "metadata": {},
     "output_type": "execute_result"
    }
   ],
   "source": [
    "popular_name.head()"
   ]
  },
  {
   "cell_type": "code",
   "execution_count": 1000,
   "metadata": {},
   "outputs": [
    {
     "data": {
      "text/html": [
       "<div>\n",
       "<style scoped>\n",
       "    .dataframe tbody tr th:only-of-type {\n",
       "        vertical-align: middle;\n",
       "    }\n",
       "\n",
       "    .dataframe tbody tr th {\n",
       "        vertical-align: top;\n",
       "    }\n",
       "\n",
       "    .dataframe thead th {\n",
       "        text-align: right;\n",
       "    }\n",
       "</style>\n",
       "<table border=\"1\" class=\"dataframe\">\n",
       "  <thead>\n",
       "    <tr style=\"text-align: right;\">\n",
       "      <th></th>\n",
       "      <th>Item ID</th>\n",
       "      <th>Price</th>\n",
       "    </tr>\n",
       "    <tr>\n",
       "      <th>Item Name</th>\n",
       "      <th></th>\n",
       "      <th></th>\n",
       "    </tr>\n",
       "  </thead>\n",
       "  <tbody>\n",
       "    <tr>\n",
       "      <th>Woeful Adamantite Claymore</th>\n",
       "      <td>1575</td>\n",
       "      <td>11.16</td>\n",
       "    </tr>\n",
       "    <tr>\n",
       "      <th>Final Critic</th>\n",
       "      <td>1342</td>\n",
       "      <td>38.60</td>\n",
       "    </tr>\n",
       "    <tr>\n",
       "      <th>Wolf, Promise of the Moonwalker</th>\n",
       "      <td>1253</td>\n",
       "      <td>13.16</td>\n",
       "    </tr>\n",
       "    <tr>\n",
       "      <th>Darkheart</th>\n",
       "      <td>1216</td>\n",
       "      <td>25.20</td>\n",
       "    </tr>\n",
       "    <tr>\n",
       "      <th>Blade of the Grave</th>\n",
       "      <td>1204</td>\n",
       "      <td>11.83</td>\n",
       "    </tr>\n",
       "  </tbody>\n",
       "</table>\n",
       "</div>"
      ],
      "text/plain": [
       "                                 Item ID  Price\n",
       "Item Name                                      \n",
       "Woeful Adamantite Claymore          1575  11.16\n",
       "Final Critic                        1342  38.60\n",
       "Wolf, Promise of the Moonwalker     1253  13.16\n",
       "Darkheart                           1216  25.20\n",
       "Blade of the Grave                  1204  11.83"
      ]
     },
     "execution_count": 1000,
     "metadata": {},
     "output_type": "execute_result"
    }
   ],
   "source": [
    "#Most Profitable\n",
    "# Identify the 5 most profitable items by total purchase value, then list (in a table):\n",
    " # * Item ID\n",
    "#* Item Name\n",
    " # * Purchase Count\n",
    "#  * Item Price\n",
    "#  * Total Purchase Value\n",
    "\n",
    "tpv = datafile_df.groupby([\"Item Name\"]).sum()\n",
    "tpv = tpv.sort_values(\"Item ID\", ascending = False)\n",
    "\n",
    "tpv.head()\n"
   ]
  },
  {
   "cell_type": "code",
   "execution_count": null,
   "metadata": {},
   "outputs": [],
   "source": [
    "final = "
   ]
  }
 ],
 "metadata": {
  "kernelspec": {
   "display_name": "Python 3",
   "language": "python",
   "name": "python3"
  },
  "language_info": {
   "codemirror_mode": {
    "name": "ipython",
    "version": 3
   },
   "file_extension": ".py",
   "mimetype": "text/x-python",
   "name": "python",
   "nbconvert_exporter": "python",
   "pygments_lexer": "ipython3",
   "version": "3.6.5"
  }
 },
 "nbformat": 4,
 "nbformat_minor": 2
}
