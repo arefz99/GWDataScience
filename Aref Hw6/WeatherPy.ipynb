{
 "cells": [
  {
   "cell_type": "code",
   "execution_count": 1,
   "metadata": {
    "scrolled": true
   },
   "outputs": [],
   "source": [
    "# Dependencies and Setup\n",
    "#Aref HW6 \n",
    "import matplotlib.pyplot as plt\n",
    "import pandas as pd\n",
    "import numpy as np\n",
    "import requests\n",
    "import time\n",
    "import os\n",
    "import csv\n",
    "\n",
    "output_path = os.path.join(\"..\", \"output\", \"new.csv\")\n",
    "\n",
    "# Import API key\n",
    "import api_keys\n",
    "\n",
    "# Incorporated citipy to determine city based on latitude and longitude\n",
    "from citipy import citipy\n",
    "\n",
    "# Output File (CSV)\n",
    "output_data_file = \"city_weather.csv\"\n",
    "\n",
    "# Range of latitudes and longitudes\n",
    "lat_range = (-90, 90)\n",
    "lng_range = (-180, 180)"
   ]
  },
  {
   "cell_type": "markdown",
   "metadata": {},
   "source": [
    "## Generate Cities List"
   ]
  },
  {
   "cell_type": "code",
   "execution_count": 2,
   "metadata": {},
   "outputs": [
    {
     "data": {
      "text/plain": [
       "10"
      ]
     },
     "execution_count": 2,
     "metadata": {},
     "output_type": "execute_result"
    }
   ],
   "source": [
    "# List for holding lat_lngs and cities\n",
    "lat_lngs = []\n",
    "cities = []\n",
    "city_data = []\n",
    "temp_data= []\n",
    "id_data = []\n",
    "humidity = []\n",
    "wind_speed = []\n",
    "cloudy = []\n",
    "lat_data = []\n",
    "\n",
    "# Create a set of random lat and lng combinations\n",
    "lats = np.random.uniform(low=-90.000, high=90.000, size=10)\n",
    "lngs = np.random.uniform(low=-180.000, high=180.000, size=10)\n",
    "lat_lngs = zip(lats, lngs)\n",
    "\n",
    "# Identify nearest city for each lat, lng combination\n",
    "for lat_lng in lat_lngs:\n",
    "    city = citipy.nearest_city(lat_lng[0], lat_lng[1]).city_name\n",
    "    \n",
    "    # If the city is unique, then add it to a our cities list\n",
    "    if city not in cities:\n",
    "        cities.append(city)\n",
    "\n",
    "# Print the city count to confirm sufficient count\n",
    "len(cities)\n",
    "#for x in range(len(cities)):\n",
    "  #print (cities[x])"
   ]
  },
  {
   "cell_type": "code",
   "execution_count": 3,
   "metadata": {},
   "outputs": [],
   "source": [
    "#* Perform a weather check on each of the cities using a series of successive API calls.\n",
    "#* Include a print log of each city as it's being processed with the city number and city name.\n",
    "#* Save both a CSV of all data retrieved and png images for each scatter plot.\n",
    "\n",
    "#As final considerations:\n",
    "\n",
    "#* You must complete your analysis using a Jupyter notebook.\n",
    "#* You must use the Matplotlib or Pandas plotting libraries.\n",
    "#* You must include a written description of three observable trends based on the data.\n",
    "#* You must use proper labeling of your plots, including aspects like: Plot Titles (with date of analysis) and Axes Labels.\n",
    "#* See [Example Solution](WeatherPy_Example.pdf) for a reference on expected format.\n"
   ]
  },
  {
   "cell_type": "code",
   "execution_count": 4,
   "metadata": {},
   "outputs": [
    {
     "name": "stdout",
     "output_type": "stream",
     "text": [
      "{'coord': {'lon': -65.75, 'lat': -19.59}, 'weather': [{'id': 800, 'main': 'Clear', 'description': 'clear sky', 'icon': '02d'}], 'base': 'stations', 'main': {'temp': 51.7, 'pressure': 633.62, 'humidity': 30, 'temp_min': 51.7, 'temp_max': 51.7, 'sea_level': 1023.04, 'grnd_level': 633.62}, 'wind': {'speed': 6.17, 'deg': 319.5}, 'clouds': {'all': 8}, 'dt': 1530994190, 'sys': {'message': 0.0036, 'country': 'BO', 'sunrise': 1530961082, 'sunset': 1531000693}, 'id': 3907584, 'name': 'Potosi', 'cod': 200}\n",
      "{'coord': {'lon': 137.08, 'lat': 36.58}, 'weather': [{'id': 803, 'main': 'Clouds', 'description': 'broken clouds', 'icon': '04n'}], 'base': 'stations', 'main': {'temp': 69.8, 'pressure': 1011, 'humidity': 100, 'temp_min': 69.8, 'temp_max': 69.8}, 'visibility': 10000, 'wind': {'speed': 8.05, 'deg': 240}, 'clouds': {'all': 75}, 'dt': 1530990000, 'sys': {'type': 1, 'id': 7567, 'message': 0.0047, 'country': 'JP', 'sunrise': 1530906009, 'sunset': 1530958378}, 'id': 1849876, 'name': 'Yamada', 'cod': 200}\n",
      "{'coord': {'lon': 52.36, 'lat': 59.42}, 'weather': [{'id': 804, 'main': 'Clouds', 'description': 'overcast clouds', 'icon': '04n'}], 'base': 'stations', 'main': {'temp': 64.66, 'pressure': 998.22, 'humidity': 75, 'temp_min': 64.66, 'temp_max': 64.66, 'sea_level': 1020.28, 'grnd_level': 998.22}, 'wind': {'speed': 5.28, 'deg': 188}, 'clouds': {'all': 88}, 'dt': 1530994190, 'sys': {'message': 0.0036, 'country': 'RU', 'sunrise': 1530919628, 'sunset': 1530985383}, 'id': 856673, 'name': 'Svetlopolyansk', 'cod': 200}\n",
      "{'coord': {'lon': 9.81, 'lat': 3.63}, 'weather': [{'id': 802, 'main': 'Clouds', 'description': 'scattered clouds', 'icon': '03n'}], 'base': 'stations', 'main': {'temp': 78.8, 'pressure': 1013, 'humidity': 88, 'temp_min': 78.8, 'temp_max': 78.8}, 'visibility': 10000, 'wind': {'speed': 2.24}, 'clouds': {'all': 40}, 'dt': 1530990000, 'sys': {'type': 1, 'id': 6743, 'message': 0.0038, 'country': 'CM', 'sunrise': 1530940568, 'sunset': 1530984928}, 'id': 2225940, 'name': 'Yatou', 'cod': 200}\n",
      "{'coord': {'lon': 168.86, 'lat': -46.19}, 'weather': [{'id': 801, 'main': 'Clouds', 'description': 'few clouds', 'icon': '02n'}], 'base': 'stations', 'main': {'temp': 39.91, 'pressure': 988.58, 'humidity': 79, 'temp_min': 39.91, 'temp_max': 39.91, 'sea_level': 1003.79, 'grnd_level': 988.58}, 'wind': {'speed': 5.61, 'deg': 57.0004}, 'clouds': {'all': 24}, 'dt': 1530994191, 'sys': {'message': 0.0041, 'country': 'NZ', 'sunrise': 1530908777, 'sunset': 1530940382}, 'id': 6201424, 'name': 'Mataura', 'cod': 200}\n",
      "{'coord': {'lon': 15.63, 'lat': 78.22}, 'weather': [{'id': 803, 'main': 'Clouds', 'description': 'broken clouds', 'icon': '04d'}], 'base': 'stations', 'main': {'temp': 48.2, 'pressure': 1009, 'humidity': 70, 'temp_min': 48.2, 'temp_max': 48.2}, 'visibility': 10000, 'wind': {'speed': 9.17, 'deg': 110}, 'clouds': {'all': 75}, 'dt': 1530993000, 'sys': {'type': 1, 'id': 5326, 'message': 0.0052, 'country': 'NO', 'sunrise': 0, 'sunset': 0}, 'id': 2729907, 'name': 'Longyearbyen', 'cod': 200}\n",
      "{'coord': {'lon': -70.91, 'lat': -53.16}, 'weather': [{'id': 803, 'main': 'Clouds', 'description': 'broken clouds', 'icon': '04d'}], 'base': 'stations', 'main': {'temp': 33.8, 'pressure': 1022, 'humidity': 100, 'temp_min': 33.8, 'temp_max': 33.8}, 'visibility': 10000, 'wind': {'speed': 13.87, 'deg': 250}, 'clouds': {'all': 75}, 'dt': 1530990000, 'sys': {'type': 1, 'id': 4642, 'message': 0.0037, 'country': 'CL', 'sunrise': 1530968130, 'sunset': 1530996134}, 'id': 3874787, 'name': 'Punta Arenas', 'cod': 200}\n",
      "{'coord': {'lon': -56.15, 'lat': 72.79}, 'weather': [{'id': 801, 'main': 'Clouds', 'description': 'few clouds', 'icon': '02d'}], 'base': 'stations', 'main': {'temp': 34.96, 'pressure': 1014.19, 'humidity': 100, 'temp_min': 34.96, 'temp_max': 34.96, 'sea_level': 1017.32, 'grnd_level': 1014.19}, 'wind': {'speed': 13, 'deg': 349}, 'clouds': {'all': 20}, 'dt': 1530994191, 'sys': {'message': 0.0043, 'country': 'GL', 'sunrise': 0, 'sunset': 0}, 'id': 3418910, 'name': 'Upernavik', 'cod': 200}\n",
      "{'coord': {'lon': -2.24, 'lat': 4.87}, 'weather': [{'id': 803, 'main': 'Clouds', 'description': 'broken clouds', 'icon': '04n'}], 'base': 'stations', 'main': {'temp': 74.29, 'pressure': 1025.62, 'humidity': 100, 'temp_min': 74.29, 'temp_max': 74.29, 'sea_level': 1028.1, 'grnd_level': 1025.62}, 'wind': {'speed': 5.39, 'deg': 258}, 'clouds': {'all': 56}, 'dt': 1530994191, 'sys': {'message': 0.0038, 'country': 'GH', 'sunrise': 1530943336, 'sunset': 1530987945}, 'id': 2303611, 'name': 'Axim', 'cod': 200}\n",
      "{'coord': {'lon': 88.39, 'lat': 69.49}, 'weather': [{'id': 803, 'main': 'Clouds', 'description': 'broken clouds', 'icon': '04d'}], 'base': 'stations', 'main': {'temp': 51.25, 'pressure': 1008.6, 'humidity': 58, 'temp_min': 51.25, 'temp_max': 51.25, 'sea_level': 1029.16, 'grnd_level': 1008.6}, 'wind': {'speed': 5.39, 'deg': 148.5}, 'clouds': {'all': 76}, 'dt': 1530994191, 'sys': {'message': 0.0038, 'country': 'RU', 'sunrise': 0, 'sunset': 0}, 'id': 1490256, 'name': 'Talnakh', 'cod': 200}\n",
      "Given info is: name Potosi - temp: 51.7 - windspeed: 6.17 - humidity: 51.7 - lat:-19.59\n",
      "Given info is: name Yamada - temp: 69.8 - windspeed: 8.05 - humidity: 69.8 - lat:36.58\n",
      "Given info is: name Svetlopolyansk - temp: 64.66 - windspeed: 5.28 - humidity: 64.66 - lat:59.42\n",
      "Given info is: name Yatou - temp: 78.8 - windspeed: 2.24 - humidity: 78.8 - lat:3.63\n",
      "Given info is: name Mataura - temp: 39.91 - windspeed: 5.61 - humidity: 39.91 - lat:-46.19\n",
      "Given info is: name Longyearbyen - temp: 48.2 - windspeed: 9.17 - humidity: 48.2 - lat:78.22\n",
      "Given info is: name Punta Arenas - temp: 33.8 - windspeed: 13.87 - humidity: 33.8 - lat:-53.16\n",
      "Given info is: name Upernavik - temp: 34.96 - windspeed: 13 - humidity: 34.96 - lat:72.79\n",
      "Given info is: name Axim - temp: 74.29 - windspeed: 5.39 - humidity: 74.29 - lat:4.87\n",
      "Given info is: name Talnakh - temp: 51.25 - windspeed: 5.39 - humidity: 51.25 - lat:69.49\n"
     ]
    }
   ],
   "source": [
    "api_key = api_keys.api_key\n",
    "\n",
    "url = \"http://api.openweathermap.org/data/2.5/weather?units=Imperial&APPID=\" + api_key\n",
    "\n",
    "for x in range(len(cities)):\n",
    "    query_url = url + \"&q=\" + cities[x]\n",
    "    #create a list and append city data to the list\n",
    "    weather_response = requests.get(query_url).json()\n",
    "    print (weather_response)\n",
    "    city_data.append(weather_response['name'])\n",
    "    temp_data.append(weather_response['main']['temp'])\n",
    "    id_data.append(weather_response['id'])\n",
    "    humidity.append(weather_response['main']['temp']) \n",
    "    wind_speed.append(weather_response['wind']['speed'])\n",
    "    cloudy.append(weather_response['clouds']['all'])\n",
    "    lat_data.append(weather_response['coord']['lat'])\n",
    "    \n",
    "    \n",
    "for x  in range (len(cities)):\n",
    "   print(f\"Given info is: name {city_data[x]} - temp: {temp_data[x]} - windspeed: {wind_speed[x]} - humidity: {humidity[x]} - lat:{lat_data[x]}\")\n",
    "\n",
    "    \n",
    "    "
   ]
  },
  {
   "cell_type": "code",
   "execution_count": 5,
   "metadata": {},
   "outputs": [
    {
     "data": {
      "image/png": "[encoded data removed]",
      "text/plain": [
       "<Figure size 432x288 with 1 Axes>"
      ]
     },
     "metadata": {},
     "output_type": "display_data"
    }
   ],
   "source": [
    "# Build a scatter plot for each data type\n",
    "#* Temperature (F) vs. Latitude\n",
    "#* Humidity (%) vs. Latitude\n",
    "#* Cloudiness (%) vs. Latitude\n",
    "#* Wind Speed (mph) vs. Latitude\n",
    "plt.scatter(lat_data, temp_data, marker=\"o\")\n",
    "\n",
    "# Incorporate the other graph properties\n",
    "plt.title(\"Temperature in World Cities\")\n",
    "plt.ylabel(\"Temperature (Celsius)\")\n",
    "plt.xlabel(\"Latitude\")\n",
    "plt.grid(True)\n",
    "\n",
    "# Save the figure\n",
    "plt.savefig(\"TemperatureInWorldCities.png\")\n",
    "\n",
    "# Show plot\n",
    "plt.show()"
   ]
  },
  {
   "cell_type": "code",
   "execution_count": 6,
   "metadata": {},
   "outputs": [
    {
     "data": {
      "image/png": "[encoded data removed]",
      "text/plain": [
       "<Figure size 432x288 with 1 Axes>"
      ]
     },
     "metadata": {},
     "output_type": "display_data"
    }
   ],
   "source": [
    "plt.scatter(humidity, temp_data, marker=\"o\")\n",
    "\n",
    "# Incorporate the other graph properties\n",
    "plt.title(\"Humidity in World Cities\")\n",
    "plt.ylabel(\"Humidity (Percent)\")\n",
    "plt.xlabel(\"Latitude\")\n",
    "plt.grid(True)\n",
    "\n",
    "# Save the figure\n",
    "plt.savefig(\"HumidityInWorldCities.png\")\n",
    "\n",
    "# Show plot\n",
    "plt.show()"
   ]
  },
  {
   "cell_type": "code",
   "execution_count": 7,
   "metadata": {},
   "outputs": [
    {
     "data": {
      "image/png": "[encoded data removed]",
      "text/plain": [
       "<Figure size 432x288 with 1 Axes>"
      ]
     },
     "metadata": {},
     "output_type": "display_data"
    }
   ],
   "source": [
    "plt.scatter(cloudy, temp_data, marker=\"o\")\n",
    "\n",
    "# Incorporate the other graph properties\n",
    "plt.title(\"Cloudiness in World Cities\")\n",
    "plt.ylabel(\"Cloudiness\")\n",
    "plt.xlabel(\"Latitude\")\n",
    "plt.grid(True)\n",
    "\n",
    "# Save the figure\n",
    "plt.savefig(\"CloudinessInWorldCities.png\")\n",
    "\n",
    "# Show plot\n",
    "plt.show()"
   ]
  },
  {
   "cell_type": "code",
   "execution_count": 8,
   "metadata": {},
   "outputs": [
    {
     "data": {
      "image/png": "[encoded data removed]",
      "text/plain": [
       "<Figure size 432x288 with 1 Axes>"
      ]
     },
     "metadata": {},
     "output_type": "display_data"
    }
   ],
   "source": [
    "plt.scatter(wind_speed, temp_data, marker=\"o\")\n",
    "\n",
    "# Incorporate the other graph properties\n",
    "plt.title(\"Wind Speed in World Cities\")\n",
    "plt.ylabel(\"Wind Speed\")\n",
    "plt.xlabel(\"Latitude\")\n",
    "plt.grid(True)\n",
    "\n",
    "# Save the figure\n",
    "plt.savefig(\"WindSpeedInWorldCities.png\")\n",
    "\n",
    "# Show plot\n",
    "plt.show()"
   ]
  },
  {
   "cell_type": "code",
   "execution_count": 11,
   "metadata": {},
   "outputs": [],
   "source": [
    "# Open the file using \"write\" mode. Specify the variable to hold the contents\n",
    "\n",
    "final = zip(city_data, id_data, temp_data, humidity, wind_speed, cloudy, lat_data)\n",
    "\n",
    "\n",
    "with open(output_data_file, 'w', newline='') as csvfile:\n",
    "\n",
    "    # Initialize csv.writer\n",
    "    csvwriter = csv.writer(csvfile, delimiter=',')\n",
    "\n",
    "    # Write the first row (column headers)\n",
    "    csvwriter.writerow(['City', 'City ID', 'Temperature', 'Humidity', 'Wind Speed', 'Cloudiness', 'Latitude'])\n",
    "    \n",
    "    # Write the data rows\n",
    "    csvwriter.writerow(final)\n"
   ]
  },
  {
   "cell_type": "code",
   "execution_count": null,
   "metadata": {},
   "outputs": [],
   "source": []
  }
 ],
 "metadata": {
  "anaconda-cloud": {},
  "kernelspec": {
   "display_name": "Python 3",
   "language": "python",
   "name": "python3"
  },
  "language_info": {
   "codemirror_mode": {
    "name": "ipython",
    "version": 3
   },
   "file_extension": ".py",
   "mimetype": "text/x-python",
   "name": "python",
   "nbconvert_exporter": "python",
   "pygments_lexer": "ipython3",
   "version": "3.6.5"
  }
 },
 "nbformat": 4,
 "nbformat_minor": 1
}
